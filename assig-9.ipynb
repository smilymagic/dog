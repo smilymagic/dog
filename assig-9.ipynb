{
 "cells": [
  {
   "cell_type": "code",
   "execution_count": 1,
   "id": "32714f07",
   "metadata": {},
   "outputs": [
    {
     "name": "stdout",
     "output_type": "stream",
     "text": [
      "Unigrams:\n",
      " Counter({('the',): 4, ('quick',): 2, ('brown',): 2, ('fox',): 2, ('dog',): 2, ('slow',): 1, ('red',): 1, ('lazy',): 1, ('yellow',): 1})\n",
      "\n",
      "Bigrams:\n",
      " Counter({('the', 'quick'): 2, ('quick', 'brown'): 1, ('brown', 'fox'): 1, ('the', 'slow'): 1, ('slow', 'brown'): 1, ('brown', 'dog'): 1, ('quick', 'red'): 1, ('red', 'dog'): 1, ('the', 'lazy'): 1, ('lazy', 'yellow'): 1, ('yellow', 'fox'): 1})\n",
      "\n",
      "Trigrams:\n",
      " Counter({('the', 'quick', 'brown'): 1, ('quick', 'brown', 'fox'): 1, ('the', 'slow', 'brown'): 1, ('slow', 'brown', 'dog'): 1, ('the', 'quick', 'red'): 1, ('quick', 'red', 'dog'): 1, ('the', 'lazy', 'yellow'): 1, ('lazy', 'yellow', 'fox'): 1})\n"
     ]
    },
    {
     "name": "stderr",
     "output_type": "stream",
     "text": [
      "[nltk_data] Downloading package punkt to C:\\Users\\attar/nltk_data...\n",
      "[nltk_data]   Package punkt is already up-to-date!\n"
     ]
    }
   ],
   "source": [
    "from nltk.util import ngrams\n",
    "from collections import Counter\n",
    "import nltk\n",
    "\n",
    "nltk.download('punkt')\n",
    "\n",
    "# Sample corpus\n",
    "corpus = [\n",
    "    \"the quick brown fox\",\n",
    "    \"the slow brown dog\",\n",
    "    \"the quick red dog\",\n",
    "    \"the lazy yellow fox\"\n",
    "]\n",
    "\n",
    "# Tokenize and build n-grams\n",
    "def build_ngrams(corpus, n):\n",
    "    all_ngrams = []\n",
    "    for sentence in corpus:\n",
    "        tokens = nltk.word_tokenize(sentence.lower())\n",
    "        n_grams = list(ngrams(tokens, n))\n",
    "        all_ngrams.extend(n_grams)\n",
    "    return Counter(all_ngrams)\n",
    "\n",
    "# Unigram, Bigram, Trigram\n",
    "unigrams = build_ngrams(corpus, 1)\n",
    "bigrams = build_ngrams(corpus, 2)\n",
    "trigrams = build_ngrams(corpus, 3)\n",
    "\n",
    "print(\"Unigrams:\\n\", unigrams)\n",
    "print(\"\\nBigrams:\\n\", bigrams)\n",
    "print(\"\\nTrigrams:\\n\", trigrams)"
   ]
  },
  {
   "cell_type": "code",
   "execution_count": 2,
   "id": "632d6589",
   "metadata": {},
   "outputs": [
    {
     "name": "stdout",
     "output_type": "stream",
     "text": [
      "\n",
      "LDA Topics:\n",
      "Topic 1: brown, quick, dog\n",
      "Topic 2: yellow, lazy, fox\n",
      "\n",
      "LSA Topics:\n",
      "Topic 1: dog, quick, brown\n",
      "Topic 2: lazy, yellow, fox\n"
     ]
    }
   ],
   "source": [
    "from sklearn.feature_extraction.text import CountVectorizer, TfidfVectorizer\n",
    "from sklearn.decomposition import LatentDirichletAllocation, TruncatedSVD\n",
    "\n",
    "docs = [\n",
    "    \"the quick brown fox\",\n",
    "    \"the slow brown dog\",\n",
    "    \"the quick red dog\",\n",
    "    \"the lazy yellow fox\"\n",
    "]\n",
    "\n",
    "# ---------- LDA ----------\n",
    "count_vectorizer = CountVectorizer(stop_words='english')\n",
    "doc_term_matrix = count_vectorizer.fit_transform(docs)\n",
    "\n",
    "lda_model = LatentDirichletAllocation(n_components=2, random_state=42)\n",
    "lda_topics = lda_model.fit_transform(doc_term_matrix)\n",
    "\n",
    "print(\"\\nLDA Topics:\")\n",
    "terms = count_vectorizer.get_feature_names_out()\n",
    "for idx, topic in enumerate(lda_model.components_):\n",
    "    top_words = [terms[i] for i in topic.argsort()[-3:]]\n",
    "    print(f\"Topic {idx+1}: {', '.join(top_words)}\")\n",
    "\n",
    "# ---------- LSA ----------\n",
    "tfidf_vectorizer = TfidfVectorizer(stop_words='english')\n",
    "tfidf_matrix = tfidf_vectorizer.fit_transform(docs)\n",
    "\n",
    "lsa_model = TruncatedSVD(n_components=2, random_state=42)\n",
    "lsa_topics = lsa_model.fit_transform(tfidf_matrix)\n",
    "\n",
    "print(\"\\nLSA Topics:\")\n",
    "terms = tfidf_vectorizer.get_feature_names_out()\n",
    "for idx, component in enumerate(lsa_model.components_):\n",
    "    top_words = [terms[i] for i in component.argsort()[-3:]]\n",
    "    print(f\"Topic {idx+1}: {', '.join(top_words)}\")\n"
   ]
  }
 ],
 "metadata": {
  "kernelspec": {
   "display_name": "base",
   "language": "python",
   "name": "python3"
  },
  "language_info": {
   "codemirror_mode": {
    "name": "ipython",
    "version": 3
   },
   "file_extension": ".py",
   "mimetype": "text/x-python",
   "name": "python",
   "nbconvert_exporter": "python",
   "pygments_lexer": "ipython3",
   "version": "3.12.3"
  }
 },
 "nbformat": 4,
 "nbformat_minor": 5
}

{
 "cells": [
  {
   "cell_type": "code",
   "execution_count": 1,
   "id": "ae1c8793",
   "metadata": {},
   "outputs": [
    {
     "name": "stdout",
     "output_type": "stream",
     "text": [
      "Defaulting to user installation because normal site-packages is not writeable\n",
      "Requirement already satisfied: nltk in c:\\programdata\\anaconda3\\lib\\site-packages (3.8.1)\n",
      "Requirement already satisfied: scikit-learn in c:\\programdata\\anaconda3\\lib\\site-packages (1.4.2)\n",
      "Requirement already satisfied: pandas in c:\\users\\attar\\appdata\\roaming\\python\\python312\\site-packages (2.2.3)\n",
      "Requirement already satisfied: click in c:\\users\\attar\\appdata\\roaming\\python\\python312\\site-packages (from nltk) (8.1.7)\n",
      "Requirement already satisfied: joblib in c:\\users\\attar\\appdata\\roaming\\python\\python312\\site-packages (from nltk) (1.4.2)\n",
      "Requirement already satisfied: regex>=2021.8.3 in c:\\programdata\\anaconda3\\lib\\site-packages (from nltk) (2023.10.3)\n",
      "Requirement already satisfied: tqdm in c:\\programdata\\anaconda3\\lib\\site-packages (from nltk) (4.66.4)\n",
      "Requirement already satisfied: numpy>=1.19.5 in c:\\users\\attar\\appdata\\roaming\\python\\python312\\site-packages (from scikit-learn) (1.26.4)\n",
      "Requirement already satisfied: scipy>=1.6.0 in c:\\programdata\\anaconda3\\lib\\site-packages (from scikit-learn) (1.13.1)\n",
      "Requirement already satisfied: threadpoolctl>=2.0.0 in c:\\programdata\\anaconda3\\lib\\site-packages (from scikit-learn) (2.2.0)\n",
      "Requirement already satisfied: python-dateutil>=2.8.2 in c:\\programdata\\anaconda3\\lib\\site-packages (from pandas) (2.9.0.post0)\n",
      "Requirement already satisfied: pytz>=2020.1 in c:\\programdata\\anaconda3\\lib\\site-packages (from pandas) (2024.1)\n",
      "Requirement already satisfied: tzdata>=2022.7 in c:\\programdata\\anaconda3\\lib\\site-packages (from pandas) (2023.3)\n",
      "Requirement already satisfied: six>=1.5 in c:\\users\\attar\\appdata\\roaming\\python\\python312\\site-packages (from python-dateutil>=2.8.2->pandas) (1.17.0)\n",
      "Requirement already satisfied: colorama in c:\\users\\attar\\appdata\\roaming\\python\\python312\\site-packages (from click->nltk) (0.4.6)\n",
      "Note: you may need to restart the kernel to use updated packages.\n"
     ]
    }
   ],
   "source": [
    "pip install nltk scikit-learn pandas"
   ]
  },
  {
   "cell_type": "code",
   "execution_count": 2,
   "id": "9fdab2bb",
   "metadata": {},
   "outputs": [
    {
     "name": "stderr",
     "output_type": "stream",
     "text": [
      "[nltk_data] Downloading package punkt to C:\\Users\\attar/nltk_data...\n",
      "[nltk_data]   Package punkt is already up-to-date!\n",
      "[nltk_data] Downloading package wordnet to C:\\Users\\attar/nltk_data...\n",
      "[nltk_data] Downloading package stopwords to\n",
      "[nltk_data]     C:\\Users\\attar/nltk_data...\n",
      "[nltk_data]   Unzipping corpora\\stopwords.zip.\n"
     ]
    },
    {
     "data": {
      "text/plain": [
       "True"
      ]
     },
     "execution_count": 2,
     "metadata": {},
     "output_type": "execute_result"
    }
   ],
   "source": [
    "import nltk\n",
    "nltk.download('punkt')\n",
    "nltk.download('wordnet')\n",
    "nltk.download('stopwords')"
   ]
  },
  {
   "cell_type": "code",
   "execution_count": 3,
   "id": "aeb5e4a8",
   "metadata": {},
   "outputs": [
    {
     "name": "stdout",
     "output_type": "stream",
     "text": [
      "✅ Process completed. File saved as 'processed_text_data.csv'.\n",
      "\n",
      "Sample Output:\n",
      "                                                text  \\\n",
      "0                    Dogs are running in the park!!!   \n",
      "1  He studies at the university, and he's doing w...   \n",
      "2  What's the best way to learn Natural Language ...   \n",
      "3       The quick brown fox jumps over the lazy dog.   \n",
      "\n",
      "                                          processed      label  label_encoded  \\\n",
      "0                                  dog running park     animal              0   \n",
      "1                          study university he well    student              2   \n",
      "2  whats best way learn natural language processing  education              1   \n",
      "3                     quick brown fox jump lazy dog     animal              0   \n",
      "\n",
      "       best     brown       dog       fox   he      jump  ...   natural  \\\n",
      "0  0.000000  0.000000  0.486934  0.000000  0.0  0.000000  ...  0.000000   \n",
      "1  0.000000  0.000000  0.000000  0.000000  0.5  0.000000  ...  0.000000   \n",
      "2  0.377964  0.000000  0.000000  0.000000  0.0  0.000000  ...  0.377964   \n",
      "3  0.000000  0.421765  0.332524  0.421765  0.0  0.421765  ...  0.000000   \n",
      "\n",
      "       park  processing     quick   running  study  university       way  \\\n",
      "0  0.617614    0.000000  0.000000  0.617614    0.0         0.0  0.000000   \n",
      "1  0.000000    0.000000  0.000000  0.000000    0.5         0.5  0.000000   \n",
      "2  0.000000    0.377964  0.000000  0.000000    0.0         0.0  0.377964   \n",
      "3  0.000000    0.000000  0.421765  0.000000    0.0         0.0  0.000000   \n",
      "\n",
      "   well     whats  \n",
      "0   0.0  0.000000  \n",
      "1   0.5  0.000000  \n",
      "2   0.0  0.377964  \n",
      "3   0.0  0.000000  \n",
      "\n",
      "[4 rows x 23 columns]\n"
     ]
    }
   ],
   "source": [
    "import pandas as pd\n",
    "import re\n",
    "from nltk.corpus import stopwords\n",
    "from nltk.stem import WordNetLemmatizer\n",
    "from nltk.tokenize import word_tokenize\n",
    "from sklearn.feature_extraction.text import TfidfVectorizer\n",
    "from sklearn.preprocessing import LabelEncoder\n",
    "\n",
    "# Sample dataset\n",
    "data = {\n",
    "    'text': [\n",
    "        \"Dogs are running in the park!!!\",\n",
    "        \"He studies at the university, and he's doing well.\",\n",
    "        \"What's the best way to learn Natural Language Processing?\",\n",
    "        \"The quick brown fox jumps over the lazy dog.\"\n",
    "    ],\n",
    "    'label': ['animal', 'student', 'education', 'animal']\n",
    "}\n",
    "\n",
    "df = pd.DataFrame(data)\n",
    "\n",
    "# 1. TEXT CLEANING\n",
    "def clean_text(text):\n",
    "    text = text.lower()                      # Lowercase\n",
    "    text = re.sub(r'[^a-z\\s]', '', text)     # Remove punctuation/numbers\n",
    "    return text\n",
    "\n",
    "df['cleaned'] = df['text'].apply(clean_text)\n",
    "\n",
    "# 2. TOKENIZATION & STOP WORD REMOVAL\n",
    "stop_words = set(stopwords.words('english'))\n",
    "lemmatizer = WordNetLemmatizer()\n",
    "\n",
    "def preprocess(text):\n",
    "    tokens = word_tokenize(text)\n",
    "    tokens = [t for t in tokens if t not in stop_words]\n",
    "    tokens = [lemmatizer.lemmatize(t) for t in tokens]\n",
    "    return \" \".join(tokens)\n",
    "\n",
    "df['processed'] = df['cleaned'].apply(preprocess)\n",
    "\n",
    "# 3. LABEL ENCODING\n",
    "le = LabelEncoder()\n",
    "df['label_encoded'] = le.fit_transform(df['label'])\n",
    "\n",
    "# 4. TF-IDF VECTORIZATION\n",
    "vectorizer = TfidfVectorizer()\n",
    "tfidf_matrix = vectorizer.fit_transform(df['processed'])\n",
    "tfidf_df = pd.DataFrame(tfidf_matrix.toarray(), columns=vectorizer.get_feature_names_out())\n",
    "\n",
    "# 5. COMBINE AND SAVE\n",
    "final_df = pd.concat([df[['text', 'processed', 'label', 'label_encoded']], tfidf_df], axis=1)\n",
    "final_df.to_csv(\"processed_text_data.csv\", index=False)\n",
    "\n",
    "print(\"✅ Process completed. File saved as 'processed_text_data.csv'.\")\n",
    "print(\"\\nSample Output:\")\n",
    "print(final_df.head())"
   ]
  },
  {
   "cell_type": "code",
   "execution_count": null,
   "id": "536c87e0",
   "metadata": {},
   "outputs": [],
   "source": []
  }
 ],
 "metadata": {
  "kernelspec": {
   "display_name": "base",
   "language": "python",
   "name": "python3"
  },
  "language_info": {
   "codemirror_mode": {
    "name": "ipython",
    "version": 3
   },
   "file_extension": ".py",
   "mimetype": "text/x-python",
   "name": "python",
   "nbconvert_exporter": "python",
   "pygments_lexer": "ipython3",
   "version": "3.12.3"
  }
 },
 "nbformat": 4,
 "nbformat_minor": 5
}

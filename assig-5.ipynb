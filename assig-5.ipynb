{
 "cells": [
  {
   "cell_type": "code",
   "execution_count": 1,
   "id": "ccfac105",
   "metadata": {},
   "outputs": [
    {
     "name": "stdout",
     "output_type": "stream",
     "text": [
      "Defaulting to user installation because normal site-packages is not writeable\n",
      "Requirement already satisfied: nltk in c:\\programdata\\anaconda3\\lib\\site-packages (3.8.1)\n",
      "Requirement already satisfied: click in c:\\users\\attar\\appdata\\roaming\\python\\python312\\site-packages (from nltk) (8.1.7)\n",
      "Requirement already satisfied: joblib in c:\\users\\attar\\appdata\\roaming\\python\\python312\\site-packages (from nltk) (1.4.2)\n",
      "Requirement already satisfied: regex>=2021.8.3 in c:\\programdata\\anaconda3\\lib\\site-packages (from nltk) (2023.10.3)\n",
      "Requirement already satisfied: tqdm in c:\\programdata\\anaconda3\\lib\\site-packages (from nltk) (4.66.4)\n",
      "Requirement already satisfied: colorama in c:\\users\\attar\\appdata\\roaming\\python\\python312\\site-packages (from click->nltk) (0.4.6)\n",
      "Note: you may need to restart the kernel to use updated packages.\n"
     ]
    }
   ],
   "source": [
    "pip install nltk"
   ]
  },
  {
   "cell_type": "code",
   "execution_count": 2,
   "id": "28207a56",
   "metadata": {},
   "outputs": [
    {
     "name": "stderr",
     "output_type": "stream",
     "text": [
      "[nltk_data] Downloading package punkt to C:\\Users\\attar/nltk_data...\n",
      "[nltk_data]   Package punkt is already up-to-date!\n",
      "[nltk_data] Downloading package averaged_perceptron_tagger to\n",
      "[nltk_data]     C:\\Users\\attar/nltk_data...\n",
      "[nltk_data]   Unzipping taggers\\averaged_perceptron_tagger.zip.\n"
     ]
    },
    {
     "data": {
      "text/plain": [
       "True"
      ]
     },
     "execution_count": 2,
     "metadata": {},
     "output_type": "execute_result"
    }
   ],
   "source": [
    "import nltk\n",
    "nltk.download('punkt')\n",
    "nltk.download('averaged_perceptron_tagger')"
   ]
  },
  {
   "cell_type": "code",
   "execution_count": 3,
   "id": "0a138d7c",
   "metadata": {},
   "outputs": [
    {
     "name": "stdout",
     "output_type": "stream",
     "text": [
      "Part-of-Speech Tags:\n",
      "[('The', 'DT'), ('quick', 'JJ'), ('brown', 'NN'), ('fox', 'NN'), ('jumps', 'VBZ'), ('over', 'IN'), ('the', 'DT'), ('lazy', 'JJ'), ('dog', 'NN'), ('.', '.')]\n",
      "\n",
      "1. Shallow Parsing (Chunking):\n",
      "                                S                                          \n",
      "     ___________________________|_______________________________            \n",
      "    |        |     |            NP               NP             NP         \n",
      "    |        |     |     _______|________        |       _______|______     \n",
      "jumps/VBZ over/IN ./. The/DT quick/JJ brown/NN fox/NN the/DT lazy/JJ dog/NN\n",
      "\n",
      "\n",
      "2. Regex-based Parsing with custom rules:\n",
      "                                 S                                             \n",
      "     ____________________________|____________________________                  \n",
      "    |      |            |                |                    PP               \n",
      "    |      |            |                |        ____________|_____            \n",
      "    |      |            NP               NP      |                  NP         \n",
      "    |      |     _______|________        |       |       ___________|______     \n",
      "jumps/VBZ ./. The/DT quick/JJ brown/NN fox/NN over/IN the/DT     lazy/JJ dog/NN\n",
      "\n"
     ]
    }
   ],
   "source": [
    "import nltk\n",
    "from nltk import word_tokenize, pos_tag, RegexpParser\n",
    "\n",
    "# Sample sentence\n",
    "sentence = \"The quick brown fox jumps over the lazy dog.\"\n",
    "\n",
    "# Tokenize and POS Tag\n",
    "tokens = word_tokenize(sentence)\n",
    "pos_tags = pos_tag(tokens)\n",
    "\n",
    "print(\"Part-of-Speech Tags:\")\n",
    "print(pos_tags)\n",
    "\n",
    "# 1. SHALLOW PARSING (Chunking using simple NP - Noun Phrase)\n",
    "print(\"\\n1. Shallow Parsing (Chunking):\")\n",
    "\n",
    "# Define a simple grammar for Noun Phrases (NP)\n",
    "chunk_grammar = \"NP: {<DT>?<JJ>*<NN>}\"\n",
    "chunk_parser = RegexpParser(chunk_grammar)\n",
    "\n",
    "# Parse the POS-tagged sentence\n",
    "chunk_tree = chunk_parser.parse(pos_tags)\n",
    "chunk_tree.pretty_print()\n",
    "\n",
    "# 2. REGEX PARSING WITH CUSTOM RULES\n",
    "print(\"\\n2. Regex-based Parsing with custom rules:\")\n",
    "\n",
    "# Define a more advanced grammar\n",
    "grammar = r\"\"\"\n",
    "  NP: {<DT>?<JJ>*<NN>}            # Noun Phrase\n",
    "  VP: {<VB.*><NP|PP|CLAUSE>+$}    # Verb Phrase\n",
    "  PP: {<IN><NP>}                  # Prepositional Phrase\n",
    "\"\"\"\n",
    "\n",
    "regex_parser = RegexpParser(grammar)\n",
    "parsed_tree = regex_parser.parse(pos_tags)\n",
    "parsed_tree.pretty_print()\n"
   ]
  },
  {
   "cell_type": "code",
   "execution_count": null,
   "id": "de45897a",
   "metadata": {},
   "outputs": [],
   "source": []
  }
 ],
 "metadata": {
  "kernelspec": {
   "display_name": "base",
   "language": "python",
   "name": "python3"
  },
  "language_info": {
   "codemirror_mode": {
    "name": "ipython",
    "version": 3
   },
   "file_extension": ".py",
   "mimetype": "text/x-python",
   "name": "python",
   "nbconvert_exporter": "python",
   "pygments_lexer": "ipython3",
   "version": "3.12.3"
  }
 },
 "nbformat": 4,
 "nbformat_minor": 5
}

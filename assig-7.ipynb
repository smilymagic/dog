{
 "cells": [
  {
   "cell_type": "code",
   "execution_count": 1,
   "id": "c48d3430",
   "metadata": {},
   "outputs": [
    {
     "name": "stdout",
     "output_type": "stream",
     "text": [
      "Topics discovered using NMF:\n",
      "\n",
      "Topic 1: dogs, pets, cats, good, friendly\n",
      "Topic 2: cat, sat, love, pet, mat\n",
      "\n",
      "Reconstruction Error (MSE): 0.031970\n"
     ]
    }
   ],
   "source": [
    "from sklearn.decomposition import NMF\n",
    "from sklearn.feature_extraction.text import TfidfVectorizer\n",
    "from sklearn.metrics import mean_squared_error\n",
    "import numpy as np\n",
    "\n",
    "# Sample documents\n",
    "documents = [\n",
    "    \"The cat sat on the mat.\",\n",
    "    \"Dogs are loyal and friendly.\",\n",
    "    \"Cats and dogs can be good pets.\",\n",
    "    \"The dog chased the ball in the park.\",\n",
    "    \"I love my pet cat.\",\n",
    "    \"Pets make people happy.\"\n",
    "]\n",
    "\n",
    "# 1. TF-IDF Vectorization\n",
    "vectorizer = TfidfVectorizer(stop_words='english')\n",
    "tfidf = vectorizer.fit_transform(documents)\n",
    "\n",
    "# 2. NMF for Topic Modeling\n",
    "nmf_model = NMF(n_components=2, random_state=42)\n",
    "W = nmf_model.fit_transform(tfidf)  # Document-topic matrix\n",
    "H = nmf_model.components_           # Topic-word matrix\n",
    "\n",
    "# 3. Display Topics\n",
    "feature_names = vectorizer.get_feature_names_out()\n",
    "n_top_words = 5\n",
    "print(\"Topics discovered using NMF:\\n\")\n",
    "for topic_idx, topic in enumerate(H):\n",
    "    top_words = [feature_names[i] for i in topic.argsort()[:-n_top_words - 1:-1]]\n",
    "    print(f\"Topic {topic_idx + 1}: {', '.join(top_words)}\")\n",
    "\n",
    "# 4. Reconstruction Error (approximation quality)\n",
    "reconstructed = np.dot(W, H)\n",
    "error = mean_squared_error(tfidf.toarray(), reconstructed)\n",
    "print(f\"\\nReconstruction Error (MSE): {error:.6f}\")"
   ]
  },
  {
   "cell_type": "code",
   "execution_count": 2,
   "id": "4c33dc93",
   "metadata": {},
   "outputs": [
    {
     "name": "stderr",
     "output_type": "stream",
     "text": [
      "[nltk_data] Downloading package wordnet to C:\\Users\\attar/nltk_data...\n",
      "[nltk_data]   Package wordnet is already up-to-date!\n",
      "[nltk_data] Downloading package omw-1.4 to C:\\Users\\attar/nltk_data...\n",
      "[nltk_data] Downloading package punkt to C:\\Users\\attar/nltk_data...\n",
      "[nltk_data]   Package punkt is already up-to-date!\n"
     ]
    },
    {
     "name": "stdout",
     "output_type": "stream",
     "text": [
      "\n",
      "Word Sense Disambiguation using Lesk Algorithm:\n",
      "Sentence: He sat on the bank of the river and watched the water flow.\n",
      "Disambiguated Sense: Synset('depository_financial_institution.n.01')\n",
      "Definition: a financial institution that accepts deposits and channels the money into lending activities\n"
     ]
    }
   ],
   "source": [
    "import nltk\n",
    "from nltk.corpus import wordnet as wn\n",
    "from nltk.wsd import lesk\n",
    "from nltk.tokenize import word_tokenize\n",
    "\n",
    "nltk.download('wordnet')\n",
    "nltk.download('omw-1.4')\n",
    "nltk.download('punkt')\n",
    "\n",
    "# Example sentence with ambiguous word: \"bank\"\n",
    "sentence = \"He sat on the bank of the river and watched the water flow.\"\n",
    "tokens = word_tokenize(sentence)\n",
    "\n",
    "# Apply Lesk Algorithm\n",
    "sense = lesk(tokens, 'bank')\n",
    "print(\"\\nWord Sense Disambiguation using Lesk Algorithm:\")\n",
    "print(f\"Sentence: {sentence}\")\n",
    "print(f\"Disambiguated Sense: {sense}\")\n",
    "print(f\"Definition: {sense.definition() if sense else 'No sense found'}\")"
   ]
  },
  {
   "cell_type": "code",
   "execution_count": null,
   "id": "85674805",
   "metadata": {},
   "outputs": [],
   "source": []
  }
 ],
 "metadata": {
  "kernelspec": {
   "display_name": "base",
   "language": "python",
   "name": "python3"
  },
  "language_info": {
   "codemirror_mode": {
    "name": "ipython",
    "version": 3
   },
   "file_extension": ".py",
   "mimetype": "text/x-python",
   "name": "python",
   "nbconvert_exporter": "python",
   "pygments_lexer": "ipython3",
   "version": "3.12.3"
  }
 },
 "nbformat": 4,
 "nbformat_minor": 5
}
